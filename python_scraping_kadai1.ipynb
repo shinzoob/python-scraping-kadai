{
  "nbformat": 4,
  "nbformat_minor": 0,
  "metadata": {
    "colab": {
      "provenance": []
    },
    "kernelspec": {
      "name": "python3",
      "display_name": "Python 3"
    },
    "language_info": {
      "name": "python"
    }
  },
  "cells": [
    {
      "cell_type": "code",
      "execution_count": 1,
      "metadata": {
        "colab": {
          "base_uri": "https://localhost:8080/"
        },
        "id": "qb3YQNEwaVu_",
        "outputId": "5c17be57-ad84-4ccf-c975-c7ea2c6f6bda"
      },
      "outputs": [
        {
          "output_type": "stream",
          "name": "stdout",
          "text": [
            "Requirement already satisfied: requests in /usr/local/lib/python3.10/dist-packages (2.32.3)\n",
            "Requirement already satisfied: beautifulsoup4 in /usr/local/lib/python3.10/dist-packages (4.12.3)\n",
            "Requirement already satisfied: charset-normalizer<4,>=2 in /usr/local/lib/python3.10/dist-packages (from requests) (3.3.2)\n",
            "Requirement already satisfied: idna<4,>=2.5 in /usr/local/lib/python3.10/dist-packages (from requests) (3.7)\n",
            "Requirement already satisfied: urllib3<3,>=1.21.1 in /usr/local/lib/python3.10/dist-packages (from requests) (2.0.7)\n",
            "Requirement already satisfied: certifi>=2017.4.17 in /usr/local/lib/python3.10/dist-packages (from requests) (2024.7.4)\n",
            "Requirement already satisfied: soupsieve>1.2 in /usr/local/lib/python3.10/dist-packages (from beautifulsoup4) (2.5)\n"
          ]
        }
      ],
      "source": [
        "!pip install requests beautifulsoup4"
      ]
    },
    {
      "cell_type": "code",
      "source": [
        "from bs4 import BeautifulSoup\n",
        "import requests\n",
        "url = 'https://news.yahoo.co.jp/articles/4ef2a8d49aa577942f6ebd64c0bdef7242f0194f'\n",
        "response = requests.get(url)\n",
        "# HTMLを解析する\n",
        "soup = BeautifulSoup(response.text, 'html.parser')\n",
        "body_element = soup.select_one('#uamods > .article_body > .ldxVVT > p')\n",
        "print(body_element)\n"
      ],
      "metadata": {
        "colab": {
          "base_uri": "https://localhost:8080/"
        },
        "id": "IjERo1GRirvp",
        "outputId": "f3d5d16b-bcdc-47e5-e0bf-866985a499a2"
      },
      "execution_count": 4,
      "outputs": [
        {
          "output_type": "stream",
          "name": "stdout",
          "text": [
            "<p class=\"sc-54nboa-0 deLyrJ yjSlinkDirectlink highLightSearchTarget\">　今秋に退陣する岸田文雄首相は4年7カ月の外相経験を生かし、首脳外交に力を入れた。\n",
            "\n",
            "<a data-cl-params=\"_cl_vmodule:related;_cl_link:photo;_cl_position:1;view_pos:1;shcid:4ef2a8d49aa577942f6ebd64c0bdef7242f0194f;url:https%3A%2F%2Fwww.jiji.com%2Fjc%2Farticle%3Fk%3D2024081400939%26g%3Dpol%26p%3D20240814ax08S%26rel%3Dpv%26utm_source%3Dnews.yahoo.co.jp%26utm_medium%3Dreferral%26utm_campaign%3Dlink_back_edit_vb;title:【ひと目でわかる】岸田内閣の支持率推移と主な出来事;\" href=\"https://www.jiji.com/jc/article?k=2024081400939&amp;g=pol&amp;p=20240814ax08S&amp;rel=pv&amp;utm_source=news.yahoo.co.jp&amp;utm_medium=referral&amp;utm_campaign=link_back_edit_vb\">【ひと目でわかる】岸田内閣の支持率推移と主な出来事</a>\n",
            "\n",
            "　首相は日米同盟の一段の深化や日韓関係の正常化に一定の道筋を付けたが、中国との関係は滞り、北朝鮮による日本人拉致問題は進展を見ないまま。積み残された課題は次期首相に引き継がれる。\n",
            "\n",
            "　「外交を多角的に展開し、大きな成果を挙げられた」。岸田首相は退陣を表明した14日の記者会見でこう強調。一方で日中・日朝関係などを挙げ、「任期中にできるところまで最大限進める」と「道半ば」を認めざるを得なかった。\n",
            "\n",
            "　「新時代リアリズム外交」を掲げた岸田首相は、日米同盟を外交・安全保障の基軸に据え、米国が進める「統合抑止」に呼応して「防衛力抜本強化」の方針を決定。バイデン大統領と「友人」と呼び合う人間関係を構築し、今年4月に国賓待遇で訪米して「蜜月ぶり」をアピールした。\n",
            "\n",
            "　一方、防衛力強化の裏付けとなる防衛増税は開始時期の決定を先送りしたまま。4月の日米首脳会談で合意した自衛隊と米軍の指揮統制の連携も具体的調整は手付かずだ。11月の大統領選にはかつて在日米軍撤退に言及したことがあるトランプ前大統領も出馬しており、次期首相にとっては新たな大統領との信頼関係構築が急務となる。\n",
            "\n",
            "　覇権主義的な動きを強める中国への対処も次期首相の肩にのしかかる。岸田首相は昨年11月、習近平国家主席と「戦略的互恵関係」の構築を再確認。しかし、中国は東京電力福島第1原発の処理水放出への反発から日本産水産物の禁輸を解いておらず、訪中などは実現しなかった。\n",
            "\n",
            "　岸田首相の在任中には韓国大統領に日韓関係を重視する尹錫悦氏が就任。韓国が元徴用工問題の解決策を発表すると、岸田首相は「戦後最悪」とも言われた日韓関係の正常化で尹大統領と合意した。「正常化を一層確かなものとする」（岸田首相）ことが次期首相の課題となる。\n",
            "\n",
            "　拉致被害者家族が高齢となる中、岸田首相は「何としても自分自身の手で拉致問題を解決する」と意気込み、日朝首脳会談実現に向けて「首相直轄のハイレベル協議」を打ち出した。しかし、北朝鮮側は今年3月に「日本との交渉拒否」を宣言し、会談は実現しなかった。\n",
            "\n",
            "　岸田首相は新興・途上国「グローバルサウス」との関係強化にも注力した。ただ、今月計画していた中央アジア・モンゴル歴訪は地震発生を受けて取りやめに。岸田首相は各国首脳に電話し、再訪問に向けて「適宜調整する」と約束したが、外務省の担当者からは「訪問するかは次期首相の判断次第」とため息交じりの声も漏れる。　</p>\n"
          ]
        }
      ]
    },
    {
      "cell_type": "markdown",
      "source": [],
      "metadata": {
        "id": "FzD4u-NLjQgi"
      }
    },
    {
      "cell_type": "markdown",
      "source": [],
      "metadata": {
        "id": "lbT9D8GEjQff"
      }
    }
  ]
}